{
 "cells": [
  {
   "cell_type": "code",
   "execution_count": 1,
   "metadata": {},
   "outputs": [],
   "source": [
    "import numpy as np\n",
    "import pandas as pd\n",
    "\n",
    "import matplotlib.pyplot as plt\n",
    "import seaborn as sns\n",
    "from datetime import datetime, timedelta\n",
    "\n",
    "from sklearn.preprocessing import StandardScaler, OneHotEncoder\n",
    "from sklearn.metrics import accuracy_score, classification_report, confusion_matrix\n",
    "from sklearn.model_selection import TimeSeriesSplit, cross_val_score, GridSearchCV\n",
    "\n",
    "from sklearn.metrics import mean_squared_error\n",
    "\n",
    "from sklearn.model_selection import train_test_split, GridSearchCV\n",
    "from sklearn.linear_model import LogisticRegression\n",
    "from sklearn.metrics import accuracy_score, classification_report,matthews_corrcoef\n",
    "\n",
    "\n",
    "# from hyperopt import fmin, tpe, hp, Trials, STATUS_OK\n",
    "import tensorflow as tf\n",
    "from tensorflow.keras.models import Sequential\n",
    "from tensorflow.keras.layers import Conv1D, MaxPooling1D, Flatten, Dense, Dropout, BatchNormalization\n",
    "from tensorflow.keras.utils import to_categorical\n",
    "from tensorflow.keras.callbacks import EarlyStopping"
   ]
  },
  {
   "cell_type": "code",
   "execution_count": 3,
   "metadata": {},
   "outputs": [
    {
     "data": {
      "text/html": [
       "<div>\n",
       "<style scoped>\n",
       "    .dataframe tbody tr th:only-of-type {\n",
       "        vertical-align: middle;\n",
       "    }\n",
       "\n",
       "    .dataframe tbody tr th {\n",
       "        vertical-align: top;\n",
       "    }\n",
       "\n",
       "    .dataframe thead th {\n",
       "        text-align: right;\n",
       "    }\n",
       "</style>\n",
       "<table border=\"1\" class=\"dataframe\">\n",
       "  <thead>\n",
       "    <tr style=\"text-align: right;\">\n",
       "      <th></th>\n",
       "      <th>Temperature</th>\n",
       "      <th>Humidity</th>\n",
       "      <th>WindDirection</th>\n",
       "      <th>Precipitation</th>\n",
       "      <th>WindSpeed</th>\n",
       "      <th>Home_Prv_FTHG</th>\n",
       "      <th>Home_Prv_HS</th>\n",
       "      <th>Home_Prv_HST</th>\n",
       "      <th>Home_Prv_HF</th>\n",
       "      <th>Home_Prv_HC</th>\n",
       "      <th>...</th>\n",
       "      <th>WeatherCode_Clear</th>\n",
       "      <th>WeatherCode_Clouds</th>\n",
       "      <th>WeatherCode_Drizzle</th>\n",
       "      <th>WeatherCode_Fog</th>\n",
       "      <th>WeatherCode_Haze</th>\n",
       "      <th>WeatherCode_Mist</th>\n",
       "      <th>WeatherCode_Rain</th>\n",
       "      <th>WeatherCode_Snow</th>\n",
       "      <th>Time_of_Day_Afternoon</th>\n",
       "      <th>Time_of_Day_Evening</th>\n",
       "    </tr>\n",
       "  </thead>\n",
       "  <tbody>\n",
       "    <tr>\n",
       "      <th>0</th>\n",
       "      <td>1.589044</td>\n",
       "      <td>-0.947690</td>\n",
       "      <td>0.173322</td>\n",
       "      <td>-0.362486</td>\n",
       "      <td>1.677221</td>\n",
       "      <td>0.561811</td>\n",
       "      <td>0.043716</td>\n",
       "      <td>-0.045927</td>\n",
       "      <td>-0.171534</td>\n",
       "      <td>0.002643</td>\n",
       "      <td>...</td>\n",
       "      <td>0</td>\n",
       "      <td>1</td>\n",
       "      <td>0</td>\n",
       "      <td>0</td>\n",
       "      <td>0</td>\n",
       "      <td>0</td>\n",
       "      <td>0</td>\n",
       "      <td>0</td>\n",
       "      <td>1</td>\n",
       "      <td>0</td>\n",
       "    </tr>\n",
       "    <tr>\n",
       "      <th>1</th>\n",
       "      <td>1.917548</td>\n",
       "      <td>-0.815443</td>\n",
       "      <td>0.500378</td>\n",
       "      <td>-0.362486</td>\n",
       "      <td>1.280300</td>\n",
       "      <td>1.363757</td>\n",
       "      <td>2.156421</td>\n",
       "      <td>1.555162</td>\n",
       "      <td>-0.443552</td>\n",
       "      <td>1.065042</td>\n",
       "      <td>...</td>\n",
       "      <td>1</td>\n",
       "      <td>0</td>\n",
       "      <td>0</td>\n",
       "      <td>0</td>\n",
       "      <td>0</td>\n",
       "      <td>0</td>\n",
       "      <td>0</td>\n",
       "      <td>0</td>\n",
       "      <td>1</td>\n",
       "      <td>0</td>\n",
       "    </tr>\n",
       "    <tr>\n",
       "      <th>2</th>\n",
       "      <td>1.400248</td>\n",
       "      <td>-0.418701</td>\n",
       "      <td>0.816532</td>\n",
       "      <td>-0.362486</td>\n",
       "      <td>0.273563</td>\n",
       "      <td>0.561811</td>\n",
       "      <td>-0.340412</td>\n",
       "      <td>-0.846471</td>\n",
       "      <td>-1.259605</td>\n",
       "      <td>-0.351490</td>\n",
       "      <td>...</td>\n",
       "      <td>0</td>\n",
       "      <td>1</td>\n",
       "      <td>0</td>\n",
       "      <td>0</td>\n",
       "      <td>0</td>\n",
       "      <td>0</td>\n",
       "      <td>0</td>\n",
       "      <td>0</td>\n",
       "      <td>1</td>\n",
       "      <td>0</td>\n",
       "    </tr>\n",
       "    <tr>\n",
       "      <th>3</th>\n",
       "      <td>1.811823</td>\n",
       "      <td>-0.683196</td>\n",
       "      <td>0.500378</td>\n",
       "      <td>-0.362486</td>\n",
       "      <td>0.558625</td>\n",
       "      <td>0.561811</td>\n",
       "      <td>-1.300732</td>\n",
       "      <td>-0.446199</td>\n",
       "      <td>2.004609</td>\n",
       "      <td>-1.413890</td>\n",
       "      <td>...</td>\n",
       "      <td>0</td>\n",
       "      <td>0</td>\n",
       "      <td>0</td>\n",
       "      <td>0</td>\n",
       "      <td>0</td>\n",
       "      <td>0</td>\n",
       "      <td>1</td>\n",
       "      <td>0</td>\n",
       "      <td>1</td>\n",
       "      <td>0</td>\n",
       "    </tr>\n",
       "    <tr>\n",
       "      <th>4</th>\n",
       "      <td>2.011946</td>\n",
       "      <td>-0.881566</td>\n",
       "      <td>0.500378</td>\n",
       "      <td>-0.362486</td>\n",
       "      <td>0.558625</td>\n",
       "      <td>1.363757</td>\n",
       "      <td>0.811972</td>\n",
       "      <td>2.355707</td>\n",
       "      <td>0.100484</td>\n",
       "      <td>0.710909</td>\n",
       "      <td>...</td>\n",
       "      <td>1</td>\n",
       "      <td>0</td>\n",
       "      <td>0</td>\n",
       "      <td>0</td>\n",
       "      <td>0</td>\n",
       "      <td>0</td>\n",
       "      <td>0</td>\n",
       "      <td>0</td>\n",
       "      <td>1</td>\n",
       "      <td>0</td>\n",
       "    </tr>\n",
       "  </tbody>\n",
       "</table>\n",
       "<p>5 rows × 57 columns</p>\n",
       "</div>"
      ],
      "text/plain": [
       "   Temperature  Humidity  WindDirection  Precipitation  WindSpeed  \\\n",
       "0     1.589044 -0.947690       0.173322      -0.362486   1.677221   \n",
       "1     1.917548 -0.815443       0.500378      -0.362486   1.280300   \n",
       "2     1.400248 -0.418701       0.816532      -0.362486   0.273563   \n",
       "3     1.811823 -0.683196       0.500378      -0.362486   0.558625   \n",
       "4     2.011946 -0.881566       0.500378      -0.362486   0.558625   \n",
       "\n",
       "   Home_Prv_FTHG  Home_Prv_HS  Home_Prv_HST  Home_Prv_HF  Home_Prv_HC  ...  \\\n",
       "0       0.561811     0.043716     -0.045927    -0.171534     0.002643  ...   \n",
       "1       1.363757     2.156421      1.555162    -0.443552     1.065042  ...   \n",
       "2       0.561811    -0.340412     -0.846471    -1.259605    -0.351490  ...   \n",
       "3       0.561811    -1.300732     -0.446199     2.004609    -1.413890  ...   \n",
       "4       1.363757     0.811972      2.355707     0.100484     0.710909  ...   \n",
       "\n",
       "   WeatherCode_Clear  WeatherCode_Clouds  WeatherCode_Drizzle  \\\n",
       "0                  0                   1                    0   \n",
       "1                  1                   0                    0   \n",
       "2                  0                   1                    0   \n",
       "3                  0                   0                    0   \n",
       "4                  1                   0                    0   \n",
       "\n",
       "   WeatherCode_Fog  WeatherCode_Haze  WeatherCode_Mist  WeatherCode_Rain  \\\n",
       "0                0                 0                 0                 0   \n",
       "1                0                 0                 0                 0   \n",
       "2                0                 0                 0                 0   \n",
       "3                0                 0                 0                 1   \n",
       "4                0                 0                 0                 0   \n",
       "\n",
       "   WeatherCode_Snow  Time_of_Day_Afternoon  Time_of_Day_Evening  \n",
       "0                 0                      1                    0  \n",
       "1                 0                      1                    0  \n",
       "2                 0                      1                    0  \n",
       "3                 0                      1                    0  \n",
       "4                 0                      1                    0  \n",
       "\n",
       "[5 rows x 57 columns]"
      ]
     },
     "execution_count": 3,
     "metadata": {},
     "output_type": "execute_result"
    }
   ],
   "source": [
    "df = pd.read_csv('../Feature Engineering/EPL_Final_cleaned_features_v2.csv')\n",
    "df.head(5)"
   ]
  },
  {
   "cell_type": "code",
   "execution_count": 3,
   "metadata": {},
   "outputs": [
    {
     "name": "stdout",
     "output_type": "stream",
     "text": [
      "<class 'pandas.core.frame.DataFrame'>\n",
      "RangeIndex: 1072 entries, 0 to 1071\n",
      "Data columns (total 53 columns):\n",
      " #   Column                     Non-Null Count  Dtype  \n",
      "---  ------                     --------------  -----  \n",
      " 0   Temperature                1072 non-null   float64\n",
      " 1   Humidity                   1072 non-null   float64\n",
      " 2   WindDirection              1072 non-null   float64\n",
      " 3   Precipitation              1072 non-null   float64\n",
      " 4   WindSpeed                  1072 non-null   float64\n",
      " 5   Home_Prv_FTHG              1072 non-null   float64\n",
      " 6   Home_Prv_HS                1072 non-null   float64\n",
      " 7   Home_Prv_HST               1072 non-null   float64\n",
      " 8   Home_Prv_HF                1072 non-null   float64\n",
      " 9   Home_Prv_HC                1072 non-null   float64\n",
      " 10  Home_Prv_HY                1072 non-null   float64\n",
      " 11  Home_Prv_HR                1072 non-null   float64\n",
      " 12  Away_Prv_FTAG              1072 non-null   float64\n",
      " 13  Away_Prv_AS                1072 non-null   float64\n",
      " 14  Away_Prv_AST               1072 non-null   float64\n",
      " 15  Away_Prv_AF                1072 non-null   float64\n",
      " 16  Away_Prv_AC                1072 non-null   float64\n",
      " 17  Away_Prv_AY                1072 non-null   float64\n",
      " 18  Away_Prv_AR                1072 non-null   float64\n",
      " 19  Home_Team_Rest             1072 non-null   float64\n",
      " 20  Away_Team_Rest             1072 non-null   float64\n",
      " 21  Home_Team_Avg_Rest_Last_3  1072 non-null   float64\n",
      " 22  Away_Team_Avg_Rest_Last_3  1072 non-null   float64\n",
      " 23  Home_Avg_3_FTHG            1072 non-null   float64\n",
      " 24  Home_Avg_3_HS              1072 non-null   float64\n",
      " 25  Home_Avg_3_HST             1072 non-null   float64\n",
      " 26  Home_Avg_3_HF              1072 non-null   float64\n",
      " 27  Home_Avg_3_HC              1072 non-null   float64\n",
      " 28  Home_Avg_3_HY              1072 non-null   float64\n",
      " 29  Home_Avg_3_HR              1072 non-null   float64\n",
      " 30  Away_Avg_3_FTAG            1072 non-null   float64\n",
      " 31  Away_Avg_3_AS              1072 non-null   float64\n",
      " 32  Away_Avg_3_AST             1072 non-null   float64\n",
      " 33  Away_Avg_3_AF              1072 non-null   float64\n",
      " 34  Away_Avg_3_AC              1072 non-null   float64\n",
      " 35  Away_Avg_3_AY              1072 non-null   float64\n",
      " 36  Away_Avg_3_AR              1072 non-null   float64\n",
      " 37  Home_Prv_FTR               1072 non-null   float64\n",
      " 38  Away_Prv_FTR               1072 non-null   float64\n",
      " 39  FTR                        1072 non-null   int64  \n",
      " 40  Date                       1072 non-null   object \n",
      " 41  Time                       1072 non-null   object \n",
      " 42  season                     1072 non-null   object \n",
      " 43  WeatherCode_Clear          1072 non-null   int64  \n",
      " 44  WeatherCode_Clouds         1072 non-null   int64  \n",
      " 45  WeatherCode_Drizzle        1072 non-null   int64  \n",
      " 46  WeatherCode_Fog            1072 non-null   int64  \n",
      " 47  WeatherCode_Haze           1072 non-null   int64  \n",
      " 48  WeatherCode_Mist           1072 non-null   int64  \n",
      " 49  WeatherCode_Rain           1072 non-null   int64  \n",
      " 50  WeatherCode_Snow           1072 non-null   int64  \n",
      " 51  Time_of_Day_Afternoon      1072 non-null   int64  \n",
      " 52  Time_of_Day_Evening        1072 non-null   int64  \n",
      "dtypes: float64(39), int64(11), object(3)\n",
      "memory usage: 444.0+ KB\n"
     ]
    }
   ],
   "source": [
    "df.info()"
   ]
  },
  {
   "cell_type": "code",
   "execution_count": 4,
   "metadata": {},
   "outputs": [],
   "source": [
    "train_data = df[df['season'].isin(['2019-2020', '2020-2021'])]\n",
    "test_data = df[df['season'] == '2021-2022']"
   ]
  },
  {
   "cell_type": "markdown",
   "metadata": {},
   "source": [
    "### Model with Weather Data:"
   ]
  },
  {
   "cell_type": "code",
   "execution_count": 5,
   "metadata": {},
   "outputs": [
    {
     "data": {
      "text/plain": [
       "((722, 51), (722,), (350, 51), (350,))"
      ]
     },
     "execution_count": 5,
     "metadata": {},
     "output_type": "execute_result"
    }
   ],
   "source": [
    "# Splitting into features and target variable\n",
    "X_train = train_data.drop(columns=['FTR','Date', 'Time', 'season','HomeTeam','AwayTeam'])\n",
    "y_train = train_data['FTR']\n",
    "X_test = test_data.drop(columns=['FTR','Date', 'Time', 'season','HomeTeam','AwayTeam'])\n",
    "y_test = test_data['FTR']\n",
    "\n",
    "X_train.shape, y_train.shape, X_test.shape, y_test.shape"
   ]
  },
  {
   "cell_type": "code",
   "execution_count": 6,
   "metadata": {},
   "outputs": [],
   "source": [
    "# Reshape the data for CNN (CNN expects 3D input: samples, timesteps, features)\n",
    "X_train_scaled = np.expand_dims(X_train, axis=2)\n",
    "X_test_scaled = np.expand_dims(X_test, axis=2)\n",
    "\n",
    "# # Convert target variable into integer encoding (assuming 'FTR' has categorical values)\n",
    "# y_train = pd.get_dummies(y_train).values\n",
    "# y_test = pd.get_dummies(y_test).values"
   ]
  },
  {
   "cell_type": "code",
   "execution_count": 7,
   "metadata": {},
   "outputs": [
    {
     "data": {
      "text/plain": [
       "(722, 51, 1)"
      ]
     },
     "execution_count": 7,
     "metadata": {},
     "output_type": "execute_result"
    }
   ],
   "source": [
    "X_train_scaled.shape"
   ]
  },
  {
   "cell_type": "code",
   "execution_count": 8,
   "metadata": {},
   "outputs": [
    {
     "name": "stdout",
     "output_type": "stream",
     "text": [
      "Epoch 1/100\n"
     ]
    },
    {
     "name": "stderr",
     "output_type": "stream",
     "text": [
      "d:\\Program Files\\Python\\Python311\\Lib\\site-packages\\keras\\src\\layers\\convolutional\\base_conv.py:107: UserWarning: Do not pass an `input_shape`/`input_dim` argument to a layer. When using Sequential models, prefer using an `Input(shape)` object as the first layer in the model instead.\n",
      "  super().__init__(activity_regularizer=activity_regularizer, **kwargs)\n"
     ]
    },
    {
     "name": "stdout",
     "output_type": "stream",
     "text": [
      "\u001b[1m23/23\u001b[0m \u001b[32m━━━━━━━━━━━━━━━━━━━━\u001b[0m\u001b[37m\u001b[0m \u001b[1m1s\u001b[0m 11ms/step - accuracy: 0.4932 - loss: 1.1517 - val_accuracy: 0.5857 - val_loss: 0.8468\n",
      "Epoch 2/100\n",
      "\u001b[1m23/23\u001b[0m \u001b[32m━━━━━━━━━━━━━━━━━━━━\u001b[0m\u001b[37m\u001b[0m \u001b[1m0s\u001b[0m 4ms/step - accuracy: 0.5647 - loss: 0.8928 - val_accuracy: 0.5857 - val_loss: 0.8484\n",
      "Epoch 3/100\n",
      "\u001b[1m23/23\u001b[0m \u001b[32m━━━━━━━━━━━━━━━━━━━━\u001b[0m\u001b[37m\u001b[0m \u001b[1m0s\u001b[0m 4ms/step - accuracy: 0.6294 - loss: 0.8266 - val_accuracy: 0.5914 - val_loss: 0.8444\n",
      "Epoch 4/100\n",
      "\u001b[1m23/23\u001b[0m \u001b[32m━━━━━━━━━━━━━━━━━━━━\u001b[0m\u001b[37m\u001b[0m \u001b[1m0s\u001b[0m 4ms/step - accuracy: 0.5974 - loss: 0.8183 - val_accuracy: 0.6229 - val_loss: 0.8385\n",
      "Epoch 5/100\n",
      "\u001b[1m23/23\u001b[0m \u001b[32m━━━━━━━━━━━━━━━━━━━━\u001b[0m\u001b[37m\u001b[0m \u001b[1m0s\u001b[0m 5ms/step - accuracy: 0.6384 - loss: 0.7944 - val_accuracy: 0.5857 - val_loss: 0.8341\n",
      "Epoch 6/100\n",
      "\u001b[1m23/23\u001b[0m \u001b[32m━━━━━━━━━━━━━━━━━━━━\u001b[0m\u001b[37m\u001b[0m \u001b[1m0s\u001b[0m 4ms/step - accuracy: 0.6346 - loss: 0.7926 - val_accuracy: 0.6086 - val_loss: 0.8335\n",
      "Epoch 7/100\n",
      "\u001b[1m23/23\u001b[0m \u001b[32m━━━━━━━━━━━━━━━━━━━━\u001b[0m\u001b[37m\u001b[0m \u001b[1m0s\u001b[0m 4ms/step - accuracy: 0.5982 - loss: 0.8066 - val_accuracy: 0.5829 - val_loss: 0.8312\n",
      "Epoch 8/100\n",
      "\u001b[1m23/23\u001b[0m \u001b[32m━━━━━━━━━━━━━━━━━━━━\u001b[0m\u001b[37m\u001b[0m \u001b[1m0s\u001b[0m 5ms/step - accuracy: 0.6400 - loss: 0.7795 - val_accuracy: 0.6000 - val_loss: 0.8233\n",
      "Epoch 9/100\n",
      "\u001b[1m23/23\u001b[0m \u001b[32m━━━━━━━━━━━━━━━━━━━━\u001b[0m\u001b[37m\u001b[0m \u001b[1m0s\u001b[0m 4ms/step - accuracy: 0.6671 - loss: 0.7651 - val_accuracy: 0.5571 - val_loss: 0.8234\n",
      "Epoch 10/100\n",
      "\u001b[1m23/23\u001b[0m \u001b[32m━━━━━━━━━━━━━━━━━━━━\u001b[0m\u001b[37m\u001b[0m \u001b[1m0s\u001b[0m 4ms/step - accuracy: 0.7053 - loss: 0.7014 - val_accuracy: 0.5743 - val_loss: 0.8168\n",
      "Epoch 11/100\n",
      "\u001b[1m23/23\u001b[0m \u001b[32m━━━━━━━━━━━━━━━━━━━━\u001b[0m\u001b[37m\u001b[0m \u001b[1m0s\u001b[0m 4ms/step - accuracy: 0.7155 - loss: 0.7002 - val_accuracy: 0.5886 - val_loss: 0.8078\n",
      "Epoch 12/100\n",
      "\u001b[1m23/23\u001b[0m \u001b[32m━━━━━━━━━━━━━━━━━━━━\u001b[0m\u001b[37m\u001b[0m \u001b[1m0s\u001b[0m 5ms/step - accuracy: 0.7250 - loss: 0.6971 - val_accuracy: 0.5971 - val_loss: 0.8029\n",
      "Epoch 13/100\n",
      "\u001b[1m23/23\u001b[0m \u001b[32m━━━━━━━━━━━━━━━━━━━━\u001b[0m\u001b[37m\u001b[0m \u001b[1m0s\u001b[0m 5ms/step - accuracy: 0.7161 - loss: 0.6661 - val_accuracy: 0.5771 - val_loss: 0.8061\n",
      "Epoch 14/100\n",
      "\u001b[1m23/23\u001b[0m \u001b[32m━━━━━━━━━━━━━━━━━━━━\u001b[0m\u001b[37m\u001b[0m \u001b[1m0s\u001b[0m 5ms/step - accuracy: 0.7390 - loss: 0.6905 - val_accuracy: 0.5743 - val_loss: 0.8061\n",
      "Epoch 15/100\n",
      "\u001b[1m23/23\u001b[0m \u001b[32m━━━━━━━━━━━━━━━━━━━━\u001b[0m\u001b[37m\u001b[0m \u001b[1m0s\u001b[0m 4ms/step - accuracy: 0.7686 - loss: 0.6435 - val_accuracy: 0.6000 - val_loss: 0.8093\n",
      "Epoch 16/100\n",
      "\u001b[1m23/23\u001b[0m \u001b[32m━━━━━━━━━━━━━━━━━━━━\u001b[0m\u001b[37m\u001b[0m \u001b[1m0s\u001b[0m 4ms/step - accuracy: 0.7774 - loss: 0.6081 - val_accuracy: 0.5886 - val_loss: 0.8159\n",
      "Epoch 17/100\n",
      "\u001b[1m23/23\u001b[0m \u001b[32m━━━━━━━━━━━━━━━━━━━━\u001b[0m\u001b[37m\u001b[0m \u001b[1m0s\u001b[0m 4ms/step - accuracy: 0.7649 - loss: 0.6273 - val_accuracy: 0.6143 - val_loss: 0.8168\n",
      "Epoch 18/100\n",
      "\u001b[1m23/23\u001b[0m \u001b[32m━━━━━━━━━━━━━━━━━━━━\u001b[0m\u001b[37m\u001b[0m \u001b[1m0s\u001b[0m 4ms/step - accuracy: 0.7977 - loss: 0.5868 - val_accuracy: 0.5714 - val_loss: 0.8257\n",
      "Epoch 19/100\n",
      "\u001b[1m23/23\u001b[0m \u001b[32m━━━━━━━━━━━━━━━━━━━━\u001b[0m\u001b[37m\u001b[0m \u001b[1m0s\u001b[0m 3ms/step - accuracy: 0.8149 - loss: 0.5764 - val_accuracy: 0.5743 - val_loss: 0.8530\n",
      "Epoch 20/100\n",
      "\u001b[1m23/23\u001b[0m \u001b[32m━━━━━━━━━━━━━━━━━━━━\u001b[0m\u001b[37m\u001b[0m \u001b[1m0s\u001b[0m 4ms/step - accuracy: 0.8211 - loss: 0.5286 - val_accuracy: 0.5800 - val_loss: 0.8498\n",
      "Epoch 21/100\n",
      "\u001b[1m23/23\u001b[0m \u001b[32m━━━━━━━━━━━━━━━━━━━━\u001b[0m\u001b[37m\u001b[0m \u001b[1m0s\u001b[0m 3ms/step - accuracy: 0.8557 - loss: 0.5426 - val_accuracy: 0.5943 - val_loss: 0.8719\n",
      "Epoch 22/100\n",
      "\u001b[1m23/23\u001b[0m \u001b[32m━━━━━━━━━━━━━━━━━━━━\u001b[0m\u001b[37m\u001b[0m \u001b[1m0s\u001b[0m 4ms/step - accuracy: 0.8394 - loss: 0.5109 - val_accuracy: 0.5800 - val_loss: 0.8793\n",
      "Epoch 23/100\n",
      "\u001b[1m23/23\u001b[0m \u001b[32m━━━━━━━━━━━━━━━━━━━━\u001b[0m\u001b[37m\u001b[0m \u001b[1m0s\u001b[0m 4ms/step - accuracy: 0.8390 - loss: 0.4864 - val_accuracy: 0.5771 - val_loss: 0.8935\n",
      "Epoch 24/100\n",
      "\u001b[1m23/23\u001b[0m \u001b[32m━━━━━━━━━━━━━━━━━━━━\u001b[0m\u001b[37m\u001b[0m \u001b[1m0s\u001b[0m 4ms/step - accuracy: 0.8429 - loss: 0.4836 - val_accuracy: 0.5886 - val_loss: 0.9050\n",
      "Epoch 25/100\n",
      "\u001b[1m23/23\u001b[0m \u001b[32m━━━━━━━━━━━━━━━━━━━━\u001b[0m\u001b[37m\u001b[0m \u001b[1m0s\u001b[0m 4ms/step - accuracy: 0.8667 - loss: 0.4702 - val_accuracy: 0.5686 - val_loss: 0.9631\n",
      "Epoch 26/100\n",
      "\u001b[1m23/23\u001b[0m \u001b[32m━━━━━━━━━━━━━━━━━━━━\u001b[0m\u001b[37m\u001b[0m \u001b[1m0s\u001b[0m 5ms/step - accuracy: 0.8761 - loss: 0.4421 - val_accuracy: 0.5743 - val_loss: 1.0082\n",
      "Epoch 27/100\n",
      "\u001b[1m23/23\u001b[0m \u001b[32m━━━━━━━━━━━━━━━━━━━━\u001b[0m\u001b[37m\u001b[0m \u001b[1m0s\u001b[0m 4ms/step - accuracy: 0.9110 - loss: 0.4172 - val_accuracy: 0.5743 - val_loss: 1.0509\n",
      "\u001b[1m11/11\u001b[0m \u001b[32m━━━━━━━━━━━━━━━━━━━━\u001b[0m\u001b[37m\u001b[0m \u001b[1m0s\u001b[0m 5ms/step \n"
     ]
    },
    {
     "data": {
      "image/png": "[encoded data removed]",
      "text/plain": [
       "<Figure size 800x600 with 2 Axes>"
      ]
     },
     "metadata": {},
     "output_type": "display_data"
    },
    {
     "name": "stdout",
     "output_type": "stream",
     "text": [
      "MCC: 0.1422241670948281\n",
      "accuracy: 0.5971428571428572\n",
      "              precision    recall  f1-score   support\n",
      "\n",
      "           0       0.62      0.79      0.69       201\n",
      "           1       0.54      0.34      0.41       149\n",
      "\n",
      "    accuracy                           0.60       350\n",
      "   macro avg       0.58      0.56      0.55       350\n",
      "weighted avg       0.59      0.60      0.57       350\n",
      "\n"
     ]
    }
   ],
   "source": [
    "model = Sequential()\n",
    "model.add(Conv1D(filters=64, kernel_size=3, activation='relu', input_shape=(X_train_scaled.shape[1], 1)))\n",
    "model.add(BatchNormalization())\n",
    "model.add(MaxPooling1D(pool_size=2))\n",
    "model.add(Dropout(0.25))\n",
    "\n",
    "model.add(Flatten())\n",
    "model.add(Dense(64, activation='relu', kernel_regularizer=tf.keras.regularizers.l2(0.001)))\n",
    "model.add(Dropout(0.25))\n",
    "\n",
    "model.add(Dense(32, activation='relu', kernel_regularizer=tf.keras.regularizers.l2(0.001)))\n",
    "model.add(Dropout(0.25))\n",
    "\n",
    "model.add(Dense(1, activation='sigmoid'))  \n",
    "\n",
    "\n",
    "# Compile the model\n",
    "model.compile(optimizer='adam', loss='binary_crossentropy', metrics=['accuracy'])\n",
    "\n",
    "# Implement Early Stopping\n",
    "early_stopping = EarlyStopping(monitor='val_loss', patience=15, restore_best_weights=True)\n",
    "\n",
    "# Train the model\n",
    "model.fit(X_train_scaled, y_train, epochs=100, batch_size=32, validation_data=(X_test_scaled, y_test), callbacks=[early_stopping])\n",
    "\n",
    "# Evaluate the model and generate predictions\n",
    "y_pred = (model.predict(X_test_scaled) > 0.5).astype(\"int32\")\n",
    "\n",
    "\n",
    "\n",
    "\n",
    "# Calculate accuracy and classification report\n",
    "mcc = matthews_corrcoef(y_test, y_pred)\n",
    "accuracy = accuracy_score(y_test, y_pred)\n",
    "classification_report_output = classification_report(y_test, y_pred)\n",
    "\n",
    "cm = confusion_matrix(y_test, y_pred)\n",
    "\n",
    "\n",
    "plt.figure(figsize=(8, 6))\n",
    "sns.heatmap(cm, annot=True, fmt='d', cmap='Blues', xticklabels=['Not Home', 'Home'], yticklabels=['Not Home', 'Home'])\n",
    "plt.xlabel('Predicted')\n",
    "plt.ylabel('Actual')\n",
    "plt.title('Confusion Matrix')\n",
    "plt.show()\n",
    "\n",
    "print(f'MCC: {mcc}')\n",
    "print(f'accuracy: {accuracy}')\n",
    "print(classification_report_output)"
   ]
  },
  {
   "cell_type": "code",
   "execution_count": 11,
   "metadata": {},
   "outputs": [],
   "source": [
    "pd.DataFrame(y_pred,columns=['CNN_y_pred']).to_csv('6.CNN_y_pred_with_weather.csv')"
   ]
  },
  {
   "cell_type": "code",
   "execution_count": 12,
   "metadata": {},
   "outputs": [
    {
     "name": "stdout",
     "output_type": "stream",
     "text": [
      "\u001b[1m23/23\u001b[0m \u001b[32m━━━━━━━━━━━━━━━━━━━━\u001b[0m\u001b[37m\u001b[0m \u001b[1m0s\u001b[0m 3ms/step\n"
     ]
    },
    {
     "data": {
      "image/png": "[encoded data removed]",
      "text/plain": [
       "<Figure size 800x600 with 2 Axes>"
      ]
     },
     "metadata": {},
     "output_type": "display_data"
    },
    {
     "name": "stdout",
     "output_type": "stream",
     "text": [
      "MCC: 0.5848260634111677\n",
      "accuracy: 0.7991689750692521\n",
      "              precision    recall  f1-score   support\n",
      "\n",
      "           0       0.79      0.89      0.84       419\n",
      "           1       0.82      0.67      0.74       303\n",
      "\n",
      "    accuracy                           0.80       722\n",
      "   macro avg       0.80      0.78      0.79       722\n",
      "weighted avg       0.80      0.80      0.80       722\n",
      "\n"
     ]
    }
   ],
   "source": [
    "# Predicting on the train data\n",
    "y_train_pred = (model.predict(X_train_scaled) > 0.5).astype(\"int32\")\n",
    "\n",
    "# Calculate accuracy and classification report\n",
    "mcc = matthews_corrcoef(y_train, y_train_pred)\n",
    "accuracy = accuracy_score(y_train, y_train_pred)\n",
    "classification_report_output = classification_report(y_train, y_train_pred)\n",
    "\n",
    "cm = confusion_matrix(y_train, y_train_pred)\n",
    "\n",
    "\n",
    "plt.figure(figsize=(8, 6))\n",
    "sns.heatmap(cm, annot=True, fmt='d', cmap='Blues', xticklabels=['Not Home', 'Home'], yticklabels=['Not Home', 'Home'])\n",
    "plt.xlabel('Predicted')\n",
    "plt.ylabel('Actual')\n",
    "plt.title('Confusion Matrix')\n",
    "plt.show()\n",
    "\n",
    "print(f'MCC: {mcc}')\n",
    "print(f'accuracy: {accuracy}')\n",
    "print(classification_report_output)"
   ]
  },
  {
   "cell_type": "markdown",
   "metadata": {},
   "source": [
    "### Model without Weather Data:"
   ]
  },
  {
   "cell_type": "code",
   "execution_count": 13,
   "metadata": {},
   "outputs": [
    {
     "data": {
      "text/plain": [
       "((722, 36), (722,), (350, 36), (350,))"
      ]
     },
     "execution_count": 13,
     "metadata": {},
     "output_type": "execute_result"
    }
   ],
   "source": [
    "# Splitting into features and target variable\n",
    "X_train = train_data.drop(columns=['FTR','Date', 'Time', 'season','HomeTeam','AwayTeam','Temperature', 'Humidity', 'WindDirection', 'Precipitation', 'WindSpeed', \n",
    "                                   'WeatherCode_Clear', 'WeatherCode_Clouds', 'WeatherCode_Drizzle', 'WeatherCode_Fog', 'WeatherCode_Haze', 'WeatherCode_Mist', 'WeatherCode_Rain', 'WeatherCode_Snow'])\n",
    "y_train = train_data['FTR']\n",
    "X_test = test_data.drop(columns=['FTR','Date', 'Time', 'season','HomeTeam','AwayTeam','Temperature', 'Humidity', 'WindDirection', 'Precipitation', 'WindSpeed', \n",
    "                                   'WeatherCode_Clear', 'WeatherCode_Clouds', 'WeatherCode_Drizzle', 'WeatherCode_Fog', 'WeatherCode_Haze', 'WeatherCode_Mist', 'WeatherCode_Rain', 'WeatherCode_Snow'])\n",
    "y_test = test_data['FTR']\n",
    "\n",
    "X_train.shape, y_train.shape, X_test.shape, y_test.shape"
   ]
  },
  {
   "cell_type": "code",
   "execution_count": 14,
   "metadata": {},
   "outputs": [],
   "source": [
    "# Reshape the data for CNN (CNN expects 3D input: samples, timesteps, features)\n",
    "X_train_scaled = np.expand_dims(X_train, axis=2)\n",
    "X_test_scaled = np.expand_dims(X_test, axis=2)\n",
    "\n",
    "# Convert target variable into integer encoding (assuming 'FTR' has categorical values)\n",
    "# y_train = pd.get_dummies(y_train).values\n",
    "# y_test = pd.get_dummies(y_test).values\n",
    "model = Sequential()\n",
    "model.add(Conv1D(filters=64, kernel_size=3, activation='relu', input_shape=(X_train_scaled.shape[1], 1)))\n",
    "model.add(BatchNormalization())\n",
    "model.add(MaxPooling1D(pool_size=2))\n",
    "model.add(Dropout(0.25))\n",
    "\n",
    "model.add(Flatten())\n",
    "model.add(Dense(64, activation='relu', kernel_regularizer=tf.keras.regularizers.l2(0.001)))\n",
    "model.add(Dropout(0.25))\n",
    "\n",
    "model.add(Dense(32, activation='relu', kernel_regularizer=tf.keras.regularizers.l2(0.001)))\n",
    "model.add(Dropout(0.25))\n",
    "model.add(Dense(1, activation='sigmoid'))  \n",
    "\n",
    "\n",
    "# Compile the model\n",
    "model.compile(optimizer='adam', loss='binary_crossentropy', metrics=['accuracy'])\n",
    "\n",
    "# Implement Early Stopping\n",
    "early_stopping = EarlyStopping(monitor='val_loss', patience=15, restore_best_weights=True)\n",
    "\n",
    "# Train the model\n",
    "model.fit(X_train_scaled, y_train, epochs=100, batch_size=32, validation_data=(X_test_scaled, y_test), callbacks=[early_stopping])\n",
    "\n",
    "\n",
    "\n",
    "# Evaluate the model and generate predictions\n",
    "y_pred = (model.predict(X_test_scaled) > 0.5).astype(\"int32\")\n",
    "\n",
    "\n",
    "\n",
    "# Calculate accuracy and classification report\n",
    "mcc = matthews_corrcoef(y_test, y_pred)\n",
    "accuracy = accuracy_score(y_test, y_pred)\n",
    "classification_report_output = classification_report(y_test, y_pred)\n",
    "\n",
    "cm = confusion_matrix(y_test, y_pred)\n",
    "\n",
    "\n",
    "plt.figure(figsize=(8, 6))\n",
    "sns.heatmap(cm, annot=True, fmt='d', cmap='Blues', xticklabels=['Not Home', 'Home'], yticklabels=['Not Home', 'Home'])\n",
    "plt.xlabel('Predicted')\n",
    "plt.ylabel('Actual')\n",
    "plt.title('Confusion Matrix')\n",
    "plt.show()\n",
    "\n",
    "print(f'MCC: {mcc}')\n",
    "print(f'accuracy: {accuracy}')\n",
    "print(classification_report_output)"
   ]
  },
  {
   "cell_type": "code",
   "execution_count": 16,
   "metadata": {},
   "outputs": [],
   "source": [
    "pd.DataFrame(y_pred,columns=['CNN_y_pred']).to_csv('6.CNN_y_pred_without_weather.csv')"
   ]
  },
  {
   "cell_type": "code",
   "execution_count": 17,
   "metadata": {},
   "outputs": [
    {
     "name": "stdout",
     "output_type": "stream",
     "text": [
      "\u001b[1m23/23\u001b[0m \u001b[32m━━━━━━━━━━━━━━━━━━━━\u001b[0m\u001b[37m\u001b[0m \u001b[1m0s\u001b[0m 1ms/step \n"
     ]
    },
    {
     "data": {
      "image/png": "[encoded data removed]",
      "text/plain": [
       "<Figure size 800x600 with 2 Axes>"
      ]
     },
     "metadata": {},
     "output_type": "display_data"
    },
    {
     "name": "stdout",
     "output_type": "stream",
     "text": [
      "MCC: 0.6687315287709542\n",
      "accuracy: 0.8393351800554016\n",
      "              precision    recall  f1-score   support\n",
      "\n",
      "           0       0.85      0.88      0.86       419\n",
      "           1       0.82      0.79      0.80       303\n",
      "\n",
      "    accuracy                           0.84       722\n",
      "   macro avg       0.84      0.83      0.83       722\n",
      "weighted avg       0.84      0.84      0.84       722\n",
      "\n"
     ]
    }
   ],
   "source": [
    "# Predicting on the train data\n",
    "y_train_pred = (model.predict(X_train_scaled) > 0.5).astype(\"int32\")\n",
    "\n",
    "# Calculate accuracy and classification report\n",
    "mcc = matthews_corrcoef(y_train, y_train_pred)\n",
    "accuracy = accuracy_score(y_train, y_train_pred)\n",
    "classification_report_output = classification_report(y_train, y_train_pred)\n",
    "\n",
    "cm = confusion_matrix(y_train, y_train_pred)\n",
    "\n",
    "\n",
    "plt.figure(figsize=(8, 6))\n",
    "sns.heatmap(cm, annot=True, fmt='d', cmap='Blues', xticklabels=['Not Home', 'Home'], yticklabels=['Not Home', 'Home'])\n",
    "plt.xlabel('Predicted')\n",
    "plt.ylabel('Actual')\n",
    "plt.title('Confusion Matrix')\n",
    "plt.show()\n",
    "\n",
    "print(f'MCC: {mcc}')\n",
    "print(f'accuracy: {accuracy}')\n",
    "print(classification_report_output)"
   ]
  }
 ],
 "metadata": {
  "kernelspec": {
   "display_name": "Python 3",
   "language": "python",
   "name": "python3"
  },
  "language_info": {
   "codemirror_mode": {
    "name": "ipython",
    "version": 3
   },
   "file_extension": ".py",
   "mimetype": "text/x-python",
   "name": "python",
   "nbconvert_exporter": "python",
   "pygments_lexer": "ipython3",
   "version": "3.11.3"
  }
 },
 "nbformat": 4,
 "nbformat_minor": 2
}
